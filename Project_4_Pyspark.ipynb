{
  "nbformat": 4,
  "nbformat_minor": 0,
  "metadata": {
    "colab": {
      "provenance": []
    },
    "kernelspec": {
      "name": "python3",
      "display_name": "Python 3"
    },
    "language_info": {
      "name": "python"
    }
  },
  "cells": [
    {
      "cell_type": "code",
      "execution_count": 1,
      "metadata": {
        "colab": {
          "base_uri": "https://localhost:8080/"
        },
        "id": "_iSe7iefFLm2",
        "outputId": "03c3164c-e0da-4264-ade1-fcca249a035a"
      },
      "outputs": [
        {
          "output_type": "stream",
          "name": "stdout",
          "text": [
            "\r0% [Working]\r            \rHit:1 https://cloud.r-project.org/bin/linux/ubuntu jammy-cran40/ InRelease\n",
            "Hit:2 https://developer.download.nvidia.com/compute/cuda/repos/ubuntu2204/x86_64  InRelease\n",
            "Get:3 http://security.ubuntu.com/ubuntu jammy-security InRelease [110 kB]\n",
            "Hit:4 http://archive.ubuntu.com/ubuntu jammy InRelease\n",
            "Get:5 http://archive.ubuntu.com/ubuntu jammy-updates InRelease [119 kB]\n",
            "Hit:6 https://ppa.launchpadcontent.net/c2d4u.team/c2d4u4.0+/ubuntu jammy InRelease\n",
            "Hit:7 https://ppa.launchpadcontent.net/deadsnakes/ppa/ubuntu jammy InRelease\n",
            "Hit:8 https://ppa.launchpadcontent.net/graphics-drivers/ppa/ubuntu jammy InRelease\n",
            "Hit:9 http://archive.ubuntu.com/ubuntu jammy-backports InRelease\n",
            "Hit:10 https://ppa.launchpadcontent.net/ubuntugis/ppa/ubuntu jammy InRelease\n",
            "Fetched 229 kB in 2s (109 kB/s)\n",
            "Reading package lists... Done\n"
          ]
        }
      ],
      "source": [
        "import os\n",
        "spark_version = 'spark-3.4.2'\n",
        "os.environ['SPARK_VERSION']=spark_version\n",
        "\n",
        "# Install Spark and Java\n",
        "!apt-get update\n",
        "!apt-get install openjdk-11-jdk-headless -qq > /dev/null\n",
        "!wget -q http://www.apache.org/dist/spark/$SPARK_VERSION/$SPARK_VERSION-bin-hadoop3.tgz\n",
        "!tar xf $SPARK_VERSION-bin-hadoop3.tgz\n",
        "!pip install -q findspark\n",
        "\n",
        "# Set Environment Variables\n",
        "os.environ[\"JAVA_HOME\"] = \"/usr/lib/jvm/java-11-openjdk-amd64\"\n",
        "os.environ[\"SPARK_HOME\"] = f\"/content/{spark_version}-bin-hadoop3\"\n",
        "\n",
        "# Start a SparkSession\n",
        "import findspark\n",
        "findspark.init()"
      ]
    },
    {
      "cell_type": "markdown",
      "source": [],
      "metadata": {
        "id": "2FBQ03e9HsaU"
      }
    },
    {
      "cell_type": "code",
      "source": [
        "#importing yfinance data\n",
        "import yfinance as yf\n",
        "celh = yf.download(\"CELH\")\n",
        "print(celh.head())"
      ],
      "metadata": {
        "colab": {
          "base_uri": "https://localhost:8080/"
        },
        "id": "5xyDOtmdFcm_",
        "outputId": "f6f492bf-cc18-4845-a13d-5c8d0933f8ca"
      },
      "execution_count": 23,
      "outputs": [
        {
          "output_type": "stream",
          "name": "stderr",
          "text": [
            "\r[*********************100%%**********************]  1 of 1 completed"
          ]
        },
        {
          "output_type": "stream",
          "name": "stdout",
          "text": [
            "                 Open       High        Low      Close  Adj Close  Volume\n",
            "Date                                                                     \n",
            "2007-01-22   8.000000  13.333333   8.000000  13.333333  13.333333   15075\n",
            "2007-01-23  15.000000  15.000000  10.000000  10.600000  10.600000    9330\n",
            "2007-01-24  10.666667  15.000000  10.666667  11.933333  11.933333   20415\n",
            "2007-01-25  12.333333  13.400000  12.333333  13.333333  13.333333   12300\n",
            "2007-01-26  12.800000  12.800000  12.666667  12.733333  12.733333   16275\n"
          ]
        },
        {
          "output_type": "stream",
          "name": "stderr",
          "text": [
            "\n"
          ]
        }
      ]
    },
    {
      "cell_type": "code",
      "source": [
        "#create a sparksession\n",
        "from pyspark.sql import SparkSession\n",
        "spark = SparkSession.builder.appName(\"celh\").getOrCreate()"
      ],
      "metadata": {
        "id": "f5y4mDUdIton"
      },
      "execution_count": 22,
      "outputs": []
    },
    {
      "cell_type": "code",
      "source": [
        "#creating df in spark\n",
        "pandas_df = celh\n",
        "pandas_df.reset_index(drop=False,inplace=True)\n",
        "df = spark.createDataFrame(pandas_df)\n",
        "df.show(10)"
      ],
      "metadata": {
        "colab": {
          "base_uri": "https://localhost:8080/"
        },
        "id": "oXQbuOX9Nfkj",
        "outputId": "87a44f93-e8c5-4984-9972-9048ca1f6714"
      },
      "execution_count": 24,
      "outputs": [
        {
          "output_type": "stream",
          "name": "stdout",
          "text": [
            "+-------------------+------------------+------------------+------------------+------------------+------------------+------+\n",
            "|               Date|              Open|              High|               Low|             Close|         Adj Close|Volume|\n",
            "+-------------------+------------------+------------------+------------------+------------------+------------------+------+\n",
            "|2007-01-22 00:00:00|               8.0|13.333333015441895|               8.0|13.333333015441895|13.333333015441895| 15075|\n",
            "|2007-01-23 00:00:00|              15.0|              15.0|              10.0|10.600000381469727|10.600000381469727|  9330|\n",
            "|2007-01-24 00:00:00|10.666666984558105|              15.0|10.666666984558105|11.933333396911621|11.933333396911621| 20415|\n",
            "|2007-01-25 00:00:00|12.333333015441895|13.399999618530273|12.333333015441895|13.333333015441895|13.333333015441895| 12300|\n",
            "|2007-01-26 00:00:00|12.800000190734863|12.800000190734863|12.666666984558105|12.733332633972168|12.733332633972168| 16275|\n",
            "|2007-01-29 00:00:00|              13.0|              16.0|              13.0|              16.0|              16.0| 54105|\n",
            "|2007-01-30 00:00:00|16.333332061767578|18.666667938232422|16.133333206176758|              18.0|              18.0| 72885|\n",
            "|2007-01-31 00:00:00|18.200000762939453|18.666667938232422| 17.46666717529297|18.666667938232422|18.666667938232422| 72705|\n",
            "|2007-02-01 00:00:00|18.866666793823242|21.866666793823242|18.866666793823242|21.666667938232422|21.666667938232422|273735|\n",
            "|2007-02-02 00:00:00|              22.0|22.866666793823242|19.333332061767578|21.066667556762695|21.066667556762695|167265|\n",
            "+-------------------+------------------+------------------+------------------+------------------+------------------+------+\n",
            "only showing top 10 rows\n",
            "\n"
          ]
        }
      ]
    },
    {
      "cell_type": "code",
      "source": [
        "#creating temp view\n",
        "df.createOrReplaceTempView('celh')"
      ],
      "metadata": {
        "id": "Ql50CJXxRPe4"
      },
      "execution_count": 25,
      "outputs": []
    },
    {
      "cell_type": "code",
      "source": [
        "#query to find all dates between Jan 1st, 2021 and March 1st, 2024\n",
        "all_data = spark.sql(\"\"\"select * from celh where Date between \"2021-01-01\" and \"2024-03-01\" \"\"\").show(10)\n",
        "all_data"
      ],
      "metadata": {
        "colab": {
          "base_uri": "https://localhost:8080/"
        },
        "id": "cRWWG0pvOXXS",
        "outputId": "0f221d54-7ef0-4cf5-ba14-dafeee18aed0"
      },
      "execution_count": 26,
      "outputs": [
        {
          "output_type": "stream",
          "name": "stdout",
          "text": [
            "+-------------------+------------------+------------------+------------------+------------------+------------------+--------+\n",
            "|               Date|              Open|              High|               Low|             Close|         Adj Close|  Volume|\n",
            "+-------------------+------------------+------------------+------------------+------------------+------------------+--------+\n",
            "|2021-01-04 00:00:00| 17.55666732788086|17.573333740234375| 16.15999984741211| 16.51333236694336| 16.51333236694336| 5461500|\n",
            "|2021-01-05 00:00:00|16.260000228881836| 18.59666633605957|15.716667175292969|17.383333206176758|17.383333206176758| 7765800|\n",
            "|2021-01-06 00:00:00| 17.31999969482422|18.956666946411133| 17.22333335876465|17.446666717529297|17.446666717529297|21738600|\n",
            "|2021-01-07 00:00:00|              17.5|18.816667556762695|16.803333282470703|18.780000686645508|18.780000686645508| 5086800|\n",
            "|2021-01-08 00:00:00|18.670000076293945|19.586666107177734|18.663333892822266| 19.51333236694336| 19.51333236694336|11396700|\n",
            "|2021-01-11 00:00:00|19.366666793823242| 19.59000015258789|18.350000381469727|19.036666870117188|19.036666870117188| 3980100|\n",
            "|2021-01-12 00:00:00| 18.97333335876465|19.860000610351562|18.706666946411133|19.770000457763672|19.770000457763672| 3314700|\n",
            "|2021-01-13 00:00:00| 19.85333251953125|20.110000610351562|19.166667938232422|19.866666793823242|19.866666793823242| 5401200|\n",
            "|2021-01-14 00:00:00|19.933332443237305|22.270000457763672|19.876667022705078|21.606666564941406|21.606666564941406| 7197900|\n",
            "|2021-01-15 00:00:00|21.329999923706055|22.573333740234375|20.833332061767578|             21.75|             21.75| 4497000|\n",
            "+-------------------+------------------+------------------+------------------+------------------+------------------+--------+\n",
            "only showing top 10 rows\n",
            "\n"
          ]
        }
      ]
    },
    {
      "cell_type": "code",
      "source": [
        "#query to find only all closes between Jan 1st, 2021 and March 1st, 2024\n",
        "closes = spark.sql(\"\"\"select Close, Date from celh where Date between \"2021-01-01\" and \"2024-03-01\" \"\"\").show(10)\n",
        "closes"
      ],
      "metadata": {
        "colab": {
          "base_uri": "https://localhost:8080/"
        },
        "id": "ULBq3F-SRCvL",
        "outputId": "f75598a6-c00c-4925-cd88-617ef7a0d161"
      },
      "execution_count": 14,
      "outputs": [
        {
          "output_type": "stream",
          "name": "stdout",
          "text": [
            "+------------------+-------------------+\n",
            "|             Close|               Date|\n",
            "+------------------+-------------------+\n",
            "| 16.51333236694336|2021-01-04 00:00:00|\n",
            "|17.383333206176758|2021-01-05 00:00:00|\n",
            "|17.446666717529297|2021-01-06 00:00:00|\n",
            "|18.780000686645508|2021-01-07 00:00:00|\n",
            "| 19.51333236694336|2021-01-08 00:00:00|\n",
            "|19.036666870117188|2021-01-11 00:00:00|\n",
            "|19.770000457763672|2021-01-12 00:00:00|\n",
            "|19.866666793823242|2021-01-13 00:00:00|\n",
            "|21.606666564941406|2021-01-14 00:00:00|\n",
            "|             21.75|2021-01-15 00:00:00|\n",
            "+------------------+-------------------+\n",
            "only showing top 10 rows\n",
            "\n"
          ]
        }
      ]
    },
    {
      "cell_type": "code",
      "source": [
        "#query to find only all adj closes between Jan 1st, 2021 and March 1st, 2024\n",
        "adj_closes = spark.sql(\"\"\"select `Adj Close`, Date from celh where Date between \"2021-01-01\" and \"2024-03-01\" \"\"\").show(10)\n",
        "adj_closes"
      ],
      "metadata": {
        "colab": {
          "base_uri": "https://localhost:8080/"
        },
        "id": "JkkO60-WRpGp",
        "outputId": "fcb583a3-53ff-4f05-cebb-18b6e9dfe47b"
      },
      "execution_count": 20,
      "outputs": [
        {
          "output_type": "stream",
          "name": "stdout",
          "text": [
            "+------------------+-------------------+\n",
            "|         Adj Close|               Date|\n",
            "+------------------+-------------------+\n",
            "| 16.51333236694336|2021-01-04 00:00:00|\n",
            "|17.383333206176758|2021-01-05 00:00:00|\n",
            "|17.446666717529297|2021-01-06 00:00:00|\n",
            "|18.780000686645508|2021-01-07 00:00:00|\n",
            "| 19.51333236694336|2021-01-08 00:00:00|\n",
            "|19.036666870117188|2021-01-11 00:00:00|\n",
            "|19.770000457763672|2021-01-12 00:00:00|\n",
            "|19.866666793823242|2021-01-13 00:00:00|\n",
            "|21.606666564941406|2021-01-14 00:00:00|\n",
            "|             21.75|2021-01-15 00:00:00|\n",
            "+------------------+-------------------+\n",
            "only showing top 10 rows\n",
            "\n"
          ]
        }
      ]
    },
    {
      "cell_type": "code",
      "source": [
        "#query for closes in descending order between the selected dates\n",
        "biggest_closes = spark.sql(\"\"\"select Close, Date from celh where Date between \"2021-01-01\" and \"2024-03-01\" order by Close desc\"\"\").show(10)\n",
        "biggest_closes"
      ],
      "metadata": {
        "colab": {
          "base_uri": "https://localhost:8080/"
        },
        "id": "Lh0xBvhhUJL9",
        "outputId": "72c718e8-e3f7-48cd-8846-a4488887b4ed"
      },
      "execution_count": 29,
      "outputs": [
        {
          "output_type": "stream",
          "name": "stdout",
          "text": [
            "+-----------------+-------------------+\n",
            "|            Close|               Date|\n",
            "+-----------------+-------------------+\n",
            "|81.62000274658203|2024-02-29 00:00:00|\n",
            "| 79.2699966430664|2024-03-01 00:00:00|\n",
            "|68.41999816894531|2023-09-07 00:00:00|\n",
            "| 67.7699966430664|2024-02-28 00:00:00|\n",
            "| 67.5199966430664|2024-02-27 00:00:00|\n",
            "| 67.3133316040039|2023-09-14 00:00:00|\n",
            "|67.20999908447266|2023-09-08 00:00:00|\n",
            "| 67.0433349609375|2023-09-12 00:00:00|\n",
            "|66.85333251953125|2023-09-13 00:00:00|\n",
            "|66.77999877929688|2023-09-06 00:00:00|\n",
            "+-----------------+-------------------+\n",
            "only showing top 10 rows\n",
            "\n"
          ]
        }
      ]
    },
    {
      "cell_type": "code",
      "source": [],
      "metadata": {
        "id": "xFLIcB4jUe2e"
      },
      "execution_count": null,
      "outputs": []
    }
  ]
}